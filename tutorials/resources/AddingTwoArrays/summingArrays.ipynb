{
 "cells": [
  {
   "cell_type": "code",
   "execution_count": 1,
   "id": "6ef7be67-8db7-480e-91f6-f96b9849f8dc",
   "metadata": {},
   "outputs": [
    {
     "data": {
      "application/javascript": [
       "\n",
       "try {\n",
       "require(['notebook/js/codecell'], function(codecell) {\n",
       "  codecell.CodeCell.options_default.highlight_modes[\n",
       "      'magic_text/x-csrc'] = {'reg':[/^%%microblaze/]};\n",
       "  Jupyter.notebook.events.one('kernel_ready.Kernel', function(){\n",
       "      Jupyter.notebook.get_cells().map(function(cell){\n",
       "          if (cell.cell_type == 'code'){ cell.auto_highlight(); } }) ;\n",
       "  });\n",
       "});\n",
       "} catch (e) {};\n"
      ]
     },
     "metadata": {},
     "output_type": "display_data"
    },
    {
     "data": {
      "application/javascript": [
       "\n",
       "try {\n",
       "require(['notebook/js/codecell'], function(codecell) {\n",
       "  codecell.CodeCell.options_default.highlight_modes[\n",
       "      'magic_text/x-csrc'] = {'reg':[/^%%pybind11/]};\n",
       "  Jupyter.notebook.events.one('kernel_ready.Kernel', function(){\n",
       "      Jupyter.notebook.get_cells().map(function(cell){\n",
       "          if (cell.cell_type == 'code'){ cell.auto_highlight(); } }) ;\n",
       "  });\n",
       "});\n",
       "} catch (e) {};\n"
      ]
     },
     "metadata": {},
     "output_type": "display_data"
    },
    {
     "name": "stdout",
     "output_type": "stream",
     "text": [
      "[ 3  4  5  6  7  8  9 10 11 12]\n"
     ]
    }
   ],
   "source": [
    "import pynq\n",
    "import cirAdder\n",
    "pynq.PL.reset()\n",
    "ol = pynq.Overlay(\"summingArrays.bit\")\n",
    "import numpy as np\n",
    "\n",
    "array0 = np.array([2,2,2,2,2,2,2,2,2,2])\n",
    "array1 = np.array([1,2,3,4,5,6,7,8,9,10])\n",
    "\n",
    "samples = len(array0)\n",
    "\n",
    "input_buffer_1 = pynq.allocate(shape=(samples,), dtype=np.int16)\n",
    "output_buffer_1 = pynq.allocate(shape=(samples,), dtype=np.int16)\n",
    "output_buffer_2 = pynq.allocate(shape=(samples,), dtype=np.int16)\n",
    "\n",
    "np.copyto(output_buffer_1, array0)\n",
    "np.copyto(output_buffer_2, array1)\n",
    "\n",
    "ol.axi_dma_0.sendchannel.transfer(output_buffer_1)\n",
    "ol.axi_dma_1.sendchannel.transfer(output_buffer_2)\n",
    "ol.axi_dma_0.recvchannel.transfer(input_buffer_1)\n",
    "\n",
    "ol.axi_gpio_0.channel1.write(val=1, mask=0x1)\n",
    "ol.axi_gpio_0.channel2.write(val=10, mask=0xFFFFFFFF)\n",
    "\n",
    "print(input_buffer_1)"
   ]
  },
  {
   "cell_type": "code",
   "execution_count": 2,
   "id": "7bf852f9",
   "metadata": {},
   "outputs": [],
   "source": [
    "del array0, array1, input_buffer_1, output_buffer_1, output_buffer_2"
   ]
  },
  {
   "cell_type": "code",
   "execution_count": 3,
   "id": "c3602a2b",
   "metadata": {},
   "outputs": [
    {
     "name": "stdout",
     "output_type": "stream",
     "text": [
      "[ 4  5  6  7  8  9 10 11 12 13]\n"
     ]
    }
   ],
   "source": [
    "pynq.PL.reset()\n",
    "ol = pynq.Overlay(\"summingArrays.bit\")\n",
    "import numpy as np\n",
    "\n",
    "array0 = np.array([3,3,3,3,3,3,3,3,3,3])\n",
    "array1 = np.array([1,2,3,4,5,6,7,8,9,10])\n",
    "\n",
    "samples = len(array0)\n",
    "\n",
    "input_buffer_1 = pynq.allocate(shape=(samples,), dtype=np.int16)\n",
    "output_buffer_1 = pynq.allocate(shape=(samples,), dtype=np.int16)\n",
    "output_buffer_2 = pynq.allocate(shape=(samples,), dtype=np.int16)\n",
    "\n",
    "np.copyto(output_buffer_1, array0)\n",
    "np.copyto(output_buffer_2, array1)\n",
    "\n",
    "ol.axi_dma_0.sendchannel.transfer(output_buffer_1)\n",
    "ol.axi_dma_1.sendchannel.transfer(output_buffer_2)\n",
    "ol.axi_dma_0.recvchannel.transfer(input_buffer_1)\n",
    "\n",
    "ol.axi_gpio_0.channel1.write(val=1, mask=0x1)\n",
    "ol.axi_gpio_0.channel2.write(val=10, mask=0xFFFFFFFF)\n",
    "\n",
    "print(input_buffer_1)\n"
   ]
  }
 ],
 "metadata": {
  "kernelspec": {
   "display_name": "Python 3 (ipykernel)",
   "language": "python",
   "name": "python3"
  },
  "language_info": {
   "codemirror_mode": {
    "name": "ipython",
    "version": 3
   },
   "file_extension": ".py",
   "mimetype": "text/x-python",
   "name": "python",
   "nbconvert_exporter": "python",
   "pygments_lexer": "ipython3",
   "version": "3.10.4"
  }
 },
 "nbformat": 4,
 "nbformat_minor": 5
}
